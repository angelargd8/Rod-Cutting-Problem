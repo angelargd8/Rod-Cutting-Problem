{
 "cells": [
  {
   "cell_type": "markdown",
   "metadata": {},
   "source": [
    "# **Laboratorio: Problema de Corte de Varillas (Rod Cutting)**\n",
    "\n",
    "## **Descripción del Problema**\n",
    "Dada una varilla de longitud \\( n \\) y una lista de precios donde el índice \\( i \\) representa el precio de una varilla de longitud \\( i \\), encuentra la mejor forma de cortarla para obtener el máximo beneficio.\n",
    "\n",
    "Por ejemplo, si los precios son:\n",
    "\n",
    "| Longitud | 1  | 2  | 3  | 4  | 5  | 6  | 7  | 8  | 9  | 10  |\n",
    "|----------|----|----|----|----|----|----|----|----|----|----|\n",
    "| Precio   | 1  | 5  | 8  | 9  | 10 | 17 | 17 | 20 | 24 | 30 |\n",
    "\n",
    "y la varilla mide 4 unidades, hay varias opciones:\n",
    "\n",
    "1. No cortar la varilla y venderla entera (\\$9).\n",
    "2. Cortarla en dos partes de longitud 2 (\\$5 + \\$5 = \\$10) → **Mejor opción**.\n",
    "3. Cortarla en longitudes 1 y 3 (\\$1 + \\$8 = \\$9).\n",
    "\n",
    "La respuesta óptima sería **10**."
   ]
  },
  {
   "cell_type": "markdown",
   "metadata": {},
   "source": [
    "## **Guía para Resolverlo con Programación Dinámica**\n",
    "### **Paso 1: Definir la Recurrencia**\n",
    "La solución óptima se puede expresar mediante la siguiente ecuación de recurrencia:\n",
    "\n",
    "`dp[n] = max(price[i] + dp[n - i]) for all 1 ≤ i ≤ n`\n",
    "\n",
    "Esto significa que:\n",
    "- Si cortamos la varilla en una pieza de longitud *i*, la ganancia será el precio de *i* más la mejor solución para la varilla restante (\\( n - i \\)).\n",
    "- Se utiliza una tabla \\( dp[] \\) para almacenar las ganancias máximas obtenibles para cada longitud de varilla.\n"
   ]
  },
  {
   "cell_type": "markdown",
   "metadata": {},
   "source": [
    "\n",
    "### **Paso 2: Implementación Bottom-Up**\n",
    "- Se construye una tabla `dp[]` donde `dp[i]`\n",
    " representa la mejor ganancia para una varilla de longitud \\( i \\).\n",
    "- Para cada posible corte, se actualiza la mejor ganancia posible.\n",
    "- Se usa una lista auxiliar para reconstruir los cortes óptimos.\n"
   ]
  },
  {
   "cell_type": "markdown",
   "metadata": {},
   "source": [
    "## **Tarea**\n",
    "Completa la implementación de la función `rod_cutting(prices, n)` usando programación dinámica. La función debe devolver:\n",
    "1. La máxima ganancia posible.\n",
    "2. La lista de cortes óptimos para obtener esa ganancia.\n"
   ]
  },
  {
   "cell_type": "code",
   "execution_count": null,
   "metadata": {},
   "outputs": [
    {
     "name": "stdout",
     "output_type": "stream",
     "text": [
      "[0, 1, 5, 8, 10, 13, 17, 18, 22]\n",
      "22\n"
     ]
    },
    {
     "data": {
      "text/plain": [
       "(None, None)"
      ]
     },
     "execution_count": 13,
     "metadata": {},
     "output_type": "execute_result"
    }
   ],
   "source": [
    "def rod_cutting(prices, n):\n",
    "    \"\"\"\n",
    "    Calcula la máxima ganancia posible al cortar una varilla de longitud n.\n",
    "    \n",
    "    :param prices: Lista de precios donde prices[i] representa el precio de la varilla de longitud i.\n",
    "    :param n: Longitud total de la varilla.\n",
    "    :return: La máxima ganancia y la lista de cortes óptimos.\n",
    "    \"\"\"\n",
    "    # Inicializar estructura para DP\n",
    "    dp = [0] * (n + 1)\n",
    "    # Iterar sobre cada longitud posible de varilla\n",
    "    for i in range(1, n + 1):\n",
    "        # Inicializar máximo ganancia con un valor bajo\n",
    "        max_profit = -1\n",
    "        # para cada longitud j de 1 a i\n",
    "        for j in range(1, i + 1):\n",
    "            # Actualizar máximo ganancia\n",
    "            max_profit = max(max_profit, prices[j] + dp[i - j])\n",
    "        dp[i] = max_profit\n",
    "    print(dp)\n",
    "    print(max_profit)    \n",
    "\n",
    "    # Guardar los cortes óptimos para reconstruir la solución\n",
    "\n",
    "    return None, None  # Reemplazar con el resultado final\n",
    "\n",
    "rod_cutting([0, 1, 5, 8, 9, 10, 17, 17, 20, 24, 30], 8)  # Debería dar (22, [2, 6])\n"
   ]
  },
  {
   "cell_type": "markdown",
   "metadata": {},
   "source": [
    "## **Casos de prueba**"
   ]
  },
  {
   "cell_type": "code",
   "execution_count": null,
   "metadata": {},
   "outputs": [],
   "source": [
    "def test_rod_cutting():\n",
    "    test_cases = [\n",
    "        ([0, 1, 5, 8, 9, 10, 17, 17, 20, 24, 30], 4, 10),  # Caso básico\n",
    "        ([0, 1, 5, 8, 9, 10, 17, 17, 20, 24, 30], 8, 22),  # Varilla larga\n",
    "        ([0, 3, 5, 8, 9, 10, 17, 17, 20, 24, 30], 5, 15),  # Diferente tabla de precios\n",
    "        ([0, 2, 5, 7, 8, 10, 15, 17, 20, 24, 30], 7, 18),  # Variación en valores\n",
    "        ([0, 1, 2, 3, 4, 5, 6, 7, 8, 9, 10], 10, 10)  # Caso donde conviene no cortar\n",
    "    ]\n",
    "\n",
    "    for i, (prices, n, expected) in enumerate(test_cases):\n",
    "        result, cuts = rod_cutting(prices, n)\n",
    "        print(f\"Test {i+1}: Expected {expected}, Got {result}, Cuts: {cuts}\")\n",
    "        assert result == expected, f\"Failed on test case {i+1}\"\n",
    "\n",
    "test_rod_cutting()"
   ]
  },
  {
   "cell_type": "markdown",
   "metadata": {},
   "source": [
    "## **Referencias**\n",
    "- https://sites.radford.edu/~nokie/classes/360/dp-rod-cutting.html\n",
    "- https://algorithm-wiki.csail.mit.edu/wiki/Rod-Cutting_Problem\n",
    "- https://web.stanford.edu/class/archive/cs/cs161/cs161.1168/lecture12.pdf\n",
    "\n"
   ]
  }
 ],
 "metadata": {
  "kernelspec": {
   "display_name": "Python 3",
   "language": "python",
   "name": "python3"
  },
  "language_info": {
   "codemirror_mode": {
    "name": "ipython",
    "version": 3
   },
   "file_extension": ".py",
   "mimetype": "text/x-python",
   "name": "python",
   "nbconvert_exporter": "python",
   "pygments_lexer": "ipython3",
   "version": "3.12.8"
  }
 },
 "nbformat": 4,
 "nbformat_minor": 2
}
